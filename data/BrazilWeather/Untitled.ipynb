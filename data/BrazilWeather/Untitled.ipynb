{
 "cells": [
  {
   "cell_type": "code",
   "execution_count": 1,
   "id": "4f4decff-0bf2-4b05-8952-4c5e60aabe8e",
   "metadata": {},
   "outputs": [
    {
     "name": "stdout",
     "output_type": "stream",
     "text": [
      "WARNING:tensorflow:From C:\\Users\\gabim\\AppData\\Roaming\\Python\\Python39\\site-packages\\keras\\src\\losses.py:2976: The name tf.losses.sparse_softmax_cross_entropy is deprecated. Please use tf.compat.v1.losses.sparse_softmax_cross_entropy instead.\n",
      "\n"
     ]
    }
   ],
   "source": [
    "import numpy as np\n",
    "import pandas as pd\n",
    "from sklearn.metrics import mean_squared_error, r2_score\n",
    "from sklearn.model_selection import TimeSeriesSplit\n",
    "from sklearn.preprocessing import StandardScaler\n",
    "from tensorflow.keras.models import Sequential\n",
    "from tensorflow.keras.layers import LSTM, GRU, Bidirectional, Dense, Conv1D, Flatten\n",
    "from tensorflow.keras.optimizers import Adam\n",
    "import matplotlib.pyplot as plt"
   ]
  },
  {
   "cell_type": "code",
   "execution_count": 2,
   "id": "43b69d6e-3d21-4e66-a049-093659001452",
   "metadata": {},
   "outputs": [],
   "source": [
    "# Configuração do lookback (número de dias usados como entrada para prever o próximo dia)\n",
    "lookback = 30  # 30 dias de histórico para prever o próximo dia"
   ]
  },
  {
   "cell_type": "code",
   "execution_count": 3,
   "id": "bdd669f4-f203-4e17-b11d-8649d92ee17a",
   "metadata": {},
   "outputs": [],
   "source": [
    "# Função para preparar os dados\n",
    "def prepare_data(data, lookback):\n",
    "    X, y = [], []\n",
    "    for i in range(lookback, len(data)):\n",
    "        X.append(data[i-lookback:i])  # Sequência de 'lookback' dias\n",
    "        y.append(data[i, -1])  # Coluna alvo (wind_avg)\n",
    "    return np.array(X), np.array(y)"
   ]
  },
  {
   "cell_type": "code",
   "execution_count": 5,
   "id": "d3ac4391-2101-43f3-90c0-60f6611c1a2a",
   "metadata": {},
   "outputs": [],
   "source": [
    "# Carregar os dados\n",
    "data = pd.read_csv('weather_sum_combinado.csv')"
   ]
  },
  {
   "cell_type": "code",
   "execution_count": null,
   "id": "7a3af2bd-30b8-4323-a6b9-acf07bcbd236",
   "metadata": {},
   "outputs": [],
   "source": [
    "data = data[['rain_max', 'rad_max', 'temp_avg', 'temp_max', 'temp_min', 'hum_max', 'hum_min', 'wind_max', 'wind_avg']]"
   ]
  },
  {
   "cell_type": "code",
   "execution_count": null,
   "id": "cc1c4161-3679-448e-9057-da74a6ad4b98",
   "metadata": {},
   "outputs": [],
   "source": [
    "# Remover valores nulos e normalizar\n",
    "data = data.dropna()\n",
    "scaler = StandardScaler()\n",
    "data_scaled = scaler.fit_transform(data)"
   ]
  },
  {
   "cell_type": "code",
   "execution_count": null,
   "id": "b2fcedf2-0762-408d-a0b1-41eb2e0d9cec",
   "metadata": {},
   "outputs": [],
   "source": [
    "# Preparar os dados para modelos de séries temporais\n",
    "X, y = prepare_data(data_scaled, lookback)\n",
    "X = X.reshape((X.shape[0], X.shape[1], X.shape[2]))  # Formato (amostras, timesteps, features)"
   ]
  },
  {
   "cell_type": "code",
   "execution_count": null,
   "id": "c56f8215-bed1-4fdb-b485-d55ab1aaa116",
   "metadata": {},
   "outputs": [],
   "source": [
    "# Divisão temporal usando TimeSeriesSplit\n",
    "tscv = TimeSeriesSplit(n_splits=5)"
   ]
  },
  {
   "cell_type": "code",
   "execution_count": null,
   "id": "25bd817e-1b98-415b-8de2-63f019f0ea65",
   "metadata": {},
   "outputs": [],
   "source": [
    "# Visualizar os folds\n",
    "folds_info = []\n",
    "plt.figure(figsize=(12, 6))\n",
    "for fold, (train_index, test_index) in enumerate(tscv.split(X)):\n",
    "    folds_info.append((train_index, test_index))\n",
    "    plt.plot(train_index, [fold + 1] * len(train_index), 'b.', label=\"Treino\" if fold == 0 else \"\")\n",
    "    plt.plot(test_index, [fold + 1] * len(test_index), 'r.', label=\"Teste\" if fold == 0 else \"\")\n",
    "\n",
    "plt.xlabel(\"Índice\")\n",
    "plt.ylabel(\"Fold\")\n",
    "plt.title(\"Separação dos Folds - TimeSeriesSplit\")\n",
    "plt.legend()\n",
    "plt.grid()\n",
    "plt.show()"
   ]
  },
  {
   "cell_type": "code",
   "execution_count": null,
   "id": "7c6b2e39-7756-4a74-a865-8961d0aff443",
   "metadata": {},
   "outputs": [],
   "source": [
    "# Funções para criar os modelos\n",
    "def create_lstm(input_shape):\n",
    "    model = Sequential()\n",
    "    model.add(LSTM(200, input_shape=input_shape))\n",
    "    model.add(Dense(1))  # Saída\n",
    "    return model\n",
    "\n",
    "def create_bilstm(input_shape):\n",
    "    model = Sequential()\n",
    "    model.add(Bidirectional(LSTM(200), input_shape=input_shape))\n",
    "    model.add(Dense(1))\n",
    "    return model\n",
    "\n",
    "def create_clstm(input_shape):\n",
    "    model = Sequential()\n",
    "    model.add(Conv1D(filters=32, kernel_size=3, activation='relu', input_shape=input_shape))\n",
    "    model.add(LSTM(200))\n",
    "    model.add(Dense(1))\n",
    "    return model"
   ]
  },
  {
   "cell_type": "code",
   "execution_count": null,
   "id": "ce5c3703-3f5f-4d3e-a1bc-7e771f113260",
   "metadata": {},
   "outputs": [],
   "source": [
    "# Configurar resultados\n",
    "results = {'LSTM': [], 'BiLSTM': [], 'CLSTM': []}"
   ]
  },
  {
   "cell_type": "code",
   "execution_count": null,
   "id": "703d02a3-03b8-413d-a58b-dd7583db1d43",
   "metadata": {},
   "outputs": [],
   "source": [
    "# Treinamento e avaliação dos modelos\n",
    "for train_index, test_index in tscv.split(X):\n",
    "    X_train, X_test = X[train_index], X[test_index]\n",
    "    y_train, y_test = y[train_index], y[test_index]\n",
    "    \n",
    "    for model_name, create_model in zip(['LSTM', 'BiLSTM', 'CLSTM'], [create_lstm, create_bilstm, create_clstm]):\n",
    "        print(f\"Treinando modelo {model_name}...\")\n",
    "        \n",
    "        model = create_model((X_train.shape[1], X_train.shape[2]))\n",
    "        optimizer = Adam(learning_rate=0.005)  # Taxa de aprendizado ajustada\n",
    "        model.compile(optimizer=optimizer, loss='mean_squared_error', metrics=['mse'])\n",
    "        \n",
    "        model.fit(X_train, y_train, epochs=250, batch_size=700, verbose=0)\n",
    "        y_pred = model.predict(X_test).flatten()\n",
    "        \n",
    "        mse = mean_squared_error(y_test, y_pred)\n",
    "        rmse = np.sqrt(mse)\n",
    "        r2 = r2_score(y_test, y_pred)\n",
    "        \n",
    "        results[model_name].append({'MSE': mse, 'RMSE': rmse, 'R2': r2, 'y_test': y_test, 'y_pred': y_pred})\n",
    "        print(f\"{model_name}: MSE={mse:.4f}, RMSE={rmse:.4f}, R2={r2:.4f}\")"
   ]
  },
  {
   "cell_type": "code",
   "execution_count": null,
   "id": "a2419e52-dd87-4a48-b1a4-2a4a85a8cb22",
   "metadata": {},
   "outputs": [],
   "source": [
    "# Comparação de resultados\n",
    "for model_name, metrics in results.items():\n",
    "    mse_vals = [m['MSE'] for m in metrics]\n",
    "    rmse_vals = [m['RMSE'] for m in metrics]\n",
    "    r2_vals = [m['R2'] for m in metrics]\n",
    "    print(f\"\\nModelo: {model_name}\")\n",
    "    print(f\"MSE Médio: {np.mean(mse_vals):.4f} ± {np.std(mse_vals):.4f}\")\n",
    "    print(f\"RMSE Médio: {np.mean(rmse_vals):.4f} ± {np.std(rmse_vals):.4f}\")\n",
    "    print(f\"R² Médio: {np.mean(r2_vals):.4f} ± {np.std(r2_vals):.4f}\")"
   ]
  },
  {
   "cell_type": "code",
   "execution_count": null,
   "id": "2c9b061f-1c4c-4ba7-92d7-0b10c8c871a1",
   "metadata": {},
   "outputs": [],
   "source": [
    "# Gráficos de Previsão\n",
    "for model_name, metrics in results.items():\n",
    "    plt.figure(figsize=(10, 5))\n",
    "    for fold, m in enumerate(metrics):\n",
    "        plt.plot(m['y_test'], label=f'Real Fold {fold+1}', alpha=0.5)\n",
    "        plt.plot(m['y_pred'], label=f'Previsto Fold {fold+1}', alpha=0.5)\n",
    "    plt.title(f\"Real vs Previsto - {model_name}\")\n",
    "    plt.xlabel(\"Amostras\")\n",
    "    plt.ylabel(\"Velocidade Média do Vento\")\n",
    "    plt.legend()\n",
    "    plt.show()\n"
   ]
  }
 ],
 "metadata": {
  "kernelspec": {
   "display_name": "Python 3 (ipykernel)",
   "language": "python",
   "name": "python3"
  },
  "language_info": {
   "codemirror_mode": {
    "name": "ipython",
    "version": 3
   },
   "file_extension": ".py",
   "mimetype": "text/x-python",
   "name": "python",
   "nbconvert_exporter": "python",
   "pygments_lexer": "ipython3",
   "version": "3.9.13"
  }
 },
 "nbformat": 4,
 "nbformat_minor": 5
}
